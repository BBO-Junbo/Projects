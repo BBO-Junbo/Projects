{
 "cells": [
  {
   "cell_type": "code",
   "execution_count": null,
   "metadata": {},
   "outputs": [],
   "source": [
    "    def analyze(self, input_string):\n",
    "        tokens = []\n",
    "        current_token = \"\"\n",
    "        i = 0\n",
    "        while i < len(input_string):\n",
    "            if input_string[i].isalnum() or input_string[i] == '_':\n",
    "                current_token += input_string[i]\n",
    "                i += 1\n",
    "                while i < len(input_string) and (input_string[i].isalnum() or input_string[i] == '_'):\n",
    "                    current_token += input_string[i]\n",
    "                    i += 1\n",
    "                if current_token in self.keywords:\n",
    "                    tokens.append(self.keywords[current_token])\n",
    "                elif current_token in self.constants:\n",
    "                    tokens.append(self.constants[current_token])\n",
    "                else:\n",
    "                    tokens.append(self.is_identifier(current_token))\n",
    "                current_token = \"\"\n",
    "            elif input_string[i] in self.operators or input_string[i:i+2] in self.operators:\n",
    "                if input_string[i:i+2] in self.operators:\n",
    "                    tokens.append(self.operators[input_string[i:i+2]])\n",
    "                    i += 2\n",
    "                else:\n",
    "                    tokens.append(self.operators[input_string[i]])\n",
    "                    i += 1\n",
    "            elif input_string[i] in self.delimiters:\n",
    "                tokens.append(self.delimiters[input_string[i]])\n",
    "                i += 1\n",
    "            elif input_string[i].isspace():\n",
    "                i += 1\n",
    "            else:\n",
    "                raise ValueError(\"Illegal character: {}\".format(input_string[i]))\n",
    "        return tokens"
   ]
  }
 ],
 "metadata": {
  "language_info": {
   "name": "python"
  }
 },
 "nbformat": 4,
 "nbformat_minor": 2
}
